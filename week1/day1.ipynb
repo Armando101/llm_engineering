{
 "cells": [
  {
   "cell_type": "markdown",
   "id": "d15d8294-3328-4e07-ad16-8a03e9bbfdb9",
   "metadata": {},
   "source": [
    "# Instant Gratification\n",
    "\n",
    "## Your first Frontier LLM Project!\n",
    "\n",
    "Let's build a useful LLM solution - in a matter of minutes.\n",
    "\n",
    "By the end of this course, you will have built an autonomous Agentic AI solution with 7 agents that collaborate to solve a business problem. All in good time! We will start with something smaller...\n",
    "\n",
    "Our goal is to code a new kind of Web Browser. Give it a URL, and it will respond with a summary. The Reader's Digest of the internet!!\n",
    "\n",
    "Before starting, you should have completed the setup for [PC](../SETUP-PC.md) or [Mac](../SETUP-mac.md) and you hopefully launched this jupyter lab from within the project root directory, with your environment activated.\n",
    "\n",
    "## If you're new to Jupyter Lab\n",
    "\n",
    "Welcome to the wonderful world of Data Science experimentation! Once you've used Jupyter Lab, you'll wonder how you ever lived without it. Simply click in each \"cell\" with code in it, such as the cell immediately below this text, and hit Shift+Return to execute that cell. As you wish, you can add a cell with the + button in the toolbar, and print values of variables, or try out variations.  \n",
    "\n",
    "I've written a notebook called [Guide to Jupyter](Guide%20to%20Jupyter.ipynb) to help you get more familiar with Jupyter Labs, including adding Markdown comments, using `!` to run shell commands, and `tqdm` to show progress.\n",
    "\n",
    "If you prefer to work in IDEs like VSCode or Pycharm, they both work great with these lab notebooks too.  \n",
    "\n",
    "## If you'd like to brush up your Python\n",
    "\n",
    "I've added a notebook called [Intermediate Python](Intermediate%20Python.ipynb) to get you up to speed. But you should give it a miss if you already have a good idea what this code does:    \n",
    "`yield from {book.get(\"author\") for book in books if book.get(\"author\")}`\n",
    "\n",
    "## I am here to help\n",
    "\n",
    "If you have any problems at all, please do reach out.  \n",
    "I'm available through the platform, or at ed@edwarddonner.com, or at https://www.linkedin.com/in/eddonner/ if you'd like to connect (and I love connecting!)\n",
    "\n",
    "## More troubleshooting\n",
    "\n",
    "Please see the [troubleshooting](troubleshooting.ipynb) notebook in this folder to diagnose and fix common problems. At the very end of it is a diagnostics script with some useful debug info.\n",
    "\n",
    "## If this is old hat!\n",
    "\n",
    "If you're already comfortable with today's material, please hang in there; you can move swiftly through the first few labs - we will get much more in depth as the weeks progress.\n",
    "\n",
    "<table style=\"margin: 0; text-align: left;\">\n",
    "    <tr>\n",
    "        <td style=\"width: 150px; height: 150px; vertical-align: middle;\">\n",
    "            <img src=\"../important.jpg\" width=\"150\" height=\"150\" style=\"display: block;\" />\n",
    "        </td>\n",
    "        <td>\n",
    "            <h2 style=\"color:#900;\">Please read - important note</h2>\n",
    "            <span style=\"color:#900;\">The way I collaborate with you may be different to other courses you've taken. I prefer not to type code while you watch. Rather, I execute Jupyter Labs, like this, and give you an intuition for what's going on. My suggestion is that you do this with me, either at the same time, or (perhaps better) right afterwards. Add print statements to understand what's going on, and then come up with your own variations. If you have a Github account, use this to showcase your variations. Not only is this essential practice, but it demonstrates your skills to others, including perhaps future clients or employers...</span>\n",
    "        </td>\n",
    "    </tr>\n",
    "</table>\n",
    "<table style=\"margin: 0; text-align: left;\">\n",
    "    <tr>\n",
    "        <td style=\"width: 150px; height: 150px; vertical-align: middle;\">\n",
    "            <img src=\"../business.jpg\" width=\"150\" height=\"150\" style=\"display: block;\" />\n",
    "        </td>\n",
    "        <td>\n",
    "            <h2 style=\"color:#181;\">Business value of these exercises</h2>\n",
    "            <span style=\"color:#181;\">A final thought. While I've designed these notebooks to be educational, I've also tried to make them enjoyable. We'll do fun things like have LLMs tell jokes and argue with each other. But fundamentally, my goal is to teach skills you can apply in business. I'll explain business implications as we go, and it's worth keeping this in mind: as you build experience with models and techniques, think of ways you could put this into action at work today. Please do contact me if you'd like to discuss more or if you have ideas to bounce off me.</span>\n",
    "        </td>\n",
    "    </tr>\n",
    "</table>"
   ]
  },
  {
   "cell_type": "code",
   "execution_count": 2,
   "id": "4e2a9393-7767-488e-a8bf-27c12dca35bd",
   "metadata": {},
   "outputs": [],
   "source": [
    "# imports\n",
    "\n",
    "import os\n",
    "import requests\n",
    "from dotenv import load_dotenv\n",
    "from bs4 import BeautifulSoup\n",
    "from IPython.display import Markdown, display\n",
    "from openai import OpenAI\n",
    "\n",
    "# If you get an error running this cell, then please head over to the troubleshooting notebook!"
   ]
  },
  {
   "cell_type": "markdown",
   "id": "6900b2a8-6384-4316-8aaa-5e519fca4254",
   "metadata": {},
   "source": [
    "# Connecting to OpenAI\n",
    "\n",
    "The next cell is where we load in the environment variables in your `.env` file and connect to OpenAI.\n",
    "\n",
    "## Troubleshooting if you have problems:\n",
    "\n",
    "Head over to the [troubleshooting](troubleshooting.ipynb) notebook in this folder for step by step code to identify the root cause and fix it!\n",
    "\n",
    "If you make a change, try restarting the \"Kernel\" (the python process sitting behind this notebook) by Kernel menu >> Restart Kernel and Clear Outputs of All Cells. Then try this notebook again, starting at the top.\n",
    "\n",
    "Or, contact me! Message me or email ed@edwarddonner.com and we will get this to work.\n",
    "\n",
    "Any concerns about API costs? See my notes in the README - costs should be minimal, and you can control it at every point. You can also use Ollama as a free alternative, which we discuss during Day 2."
   ]
  },
  {
   "cell_type": "code",
   "execution_count": 3,
   "id": "7b87cadb-d513-4303-baee-a37b6f938e4d",
   "metadata": {},
   "outputs": [
    {
     "name": "stdout",
     "output_type": "stream",
     "text": [
      "API key found and looks good so far!\n"
     ]
    }
   ],
   "source": [
    "# Load environment variables in a file called .env\n",
    "\n",
    "load_dotenv()\n",
    "api_key = os.getenv('OPENAI_API_KEY')\n",
    "\n",
    "# Check the key\n",
    "\n",
    "if not api_key:\n",
    "    print(\"No API key was found - please head over to the troubleshooting notebook in this folder to identify & fix!\")\n",
    "elif not api_key.startswith(\"sk-proj-\"):\n",
    "    print(\"An API key was found, but it doesn't start sk-proj-; please check you're using the right key - see troubleshooting notebook\")\n",
    "elif api_key.strip() != api_key:\n",
    "    print(\"An API key was found, but it looks like it might have space or tab characters at the start or end - please remove them - see troubleshooting notebook\")\n",
    "else:\n",
    "    print(\"API key found and looks good so far!\")\n"
   ]
  },
  {
   "cell_type": "code",
   "execution_count": 4,
   "id": "019974d9-f3ad-4a8a-b5f9-0a3719aea2d3",
   "metadata": {},
   "outputs": [],
   "source": [
    "openai = OpenAI()\n",
    "\n",
    "# If this doesn't work, try Kernel menu >> Restart Kernel and Clear Outputs Of All Cells, then run the cells from the top of this notebook down.\n",
    "# If it STILL doesn't work (horrors!) then please see the troubleshooting notebook, or try the below line instead:\n",
    "# openai = OpenAI(api_key=\"your-key-here-starting-sk-proj-\")"
   ]
  },
  {
   "cell_type": "markdown",
   "id": "442fc84b-0815-4f40-99ab-d9a5da6bda91",
   "metadata": {},
   "source": [
    "# Let's make a quick call to a Frontier model to get started, as a preview!"
   ]
  },
  {
   "cell_type": "code",
   "execution_count": 5,
   "id": "a58394bf-1e45-46af-9bfd-01e24da6f49a",
   "metadata": {},
   "outputs": [
    {
     "name": "stdout",
     "output_type": "stream",
     "text": [
      "Hello! Welcome! I'm glad you're here. How can I assist you today?\n"
     ]
    }
   ],
   "source": [
    "# To give you a preview -- calling OpenAI with these messages is this easy:\n",
    "\n",
    "message = \"Hello, GPT! This is my first ever message to you! Hi!\"\n",
    "response = openai.chat.completions.create(model=\"gpt-4o-mini\", messages=[{\"role\":\"user\", \"content\":message}])\n",
    "print(response.choices[0].message.content)"
   ]
  },
  {
   "cell_type": "markdown",
   "id": "2aa190e5-cb31-456a-96cc-db109919cd78",
   "metadata": {},
   "source": [
    "## OK onwards with our first project"
   ]
  },
  {
   "cell_type": "code",
   "execution_count": 6,
   "id": "c5e793b2-6775-426a-a139-4848291d0463",
   "metadata": {},
   "outputs": [],
   "source": [
    "# A class to represent a Webpage\n",
    "# If you're not familiar with Classes, check out the \"Intermediate Python\" notebook\n",
    "\n",
    "# Some websites need you to use proper headers when fetching them:\n",
    "headers = {\n",
    " \"User-Agent\": \"Mozilla/5.0 (Windows NT 10.0; Win64; x64) AppleWebKit/537.36 (KHTML, like Gecko) Chrome/117.0.0.0 Safari/537.36\"\n",
    "}\n",
    "\n",
    "class Website:\n",
    "\n",
    "    def __init__(self, url):\n",
    "        \"\"\"\n",
    "        Create this Website object from the given url using the BeautifulSoup library\n",
    "        \"\"\"\n",
    "        self.url = url\n",
    "        response = requests.get(url, headers=headers)\n",
    "        soup = BeautifulSoup(response.content, 'html.parser')\n",
    "        self.title = soup.title.string if soup.title else \"No title found\"\n",
    "        for irrelevant in soup.body([\"script\", \"style\", \"img\", \"input\"]):\n",
    "            irrelevant.decompose()\n",
    "        self.text = soup.body.get_text(separator=\"\\n\", strip=True)"
   ]
  },
  {
   "cell_type": "code",
   "execution_count": 8,
   "id": "2ef960cf-6dc2-4cda-afb3-b38be12f4c97",
   "metadata": {},
   "outputs": [
    {
     "name": "stdout",
     "output_type": "stream",
     "text": [
      "Platzi: Plataforma de aprendizaje profesional online\n",
      "Explorar\n",
      "Comunidad\n",
      "Planes\n",
      "Empresas\n",
      "Acceder\n",
      "No hay un limite de edad para aprender. Aprovecha el precio especial\n",
      "Ahorra:\n",
      "$991\n",
      "en Plan expert\n",
      "Paga a\n",
      "12\n",
      "MSI\n",
      "Termina en:\n",
      "...\n",
      "La escuela de tecnología\n",
      "de Latinoamérica\n",
      "Más de 5 millones de estudiantes y más de 3.000 empresas aprenden en Platzi\n",
      "¿Qué quieres aprender?\n",
      "Empieza cualquier curso sin costo.\n",
      "O consigue\n",
      "Platzi para tu empresa\n",
      "Escuela de\n",
      "Data Science e Inteligencia Artificial\n",
      "Escuela de\n",
      "Ciberseguridad\n",
      "Escuela de\n",
      "Liderazgo y Management\n",
      "Escuela de\n",
      "English Academy\n",
      "Escuela de\n",
      "Desarrollo Web\n",
      "Escuela de\n",
      "Marketing Digital\n",
      "Escuela de\n",
      "Producto\n",
      "Escuela de\n",
      "Contenido Audiovisual\n",
      "Escuela de\n",
      "Transformación Digital\n",
      "Escuela de\n",
      "Negocios\n",
      "Escuela de\n",
      "Talento y Recursos Humanos\n",
      "Escuela de\n",
      "Startups\n",
      "Escuela de\n",
      "Finanzas e Inversiones\n",
      "Escuela de\n",
      "DevOps y Cloud Computing\n",
      "Escuela de\n",
      "Diversidad e Inclusión\n",
      "Escuela de\n",
      "JavaScript\n",
      "Escuela de\n",
      "Programación y Software\n",
      "Escuela de\n",
      "Blockchain y Web3\n",
      "Escuela de\n",
      "Diseño Gráfico\n",
      "Ver las más populares\n",
      "Ver todas las escuelas\n",
      "Descubre tu ruta de aprendizaje personalizada\n",
      "Generar mi ruta\n",
      "Más de 3000\n",
      "empresas usan Platzi para la formación de sus equipos\n",
      "Agenda una demo\n",
      "Somos la autoridad\n",
      "en escalar la educación en línea en América Latina\n",
      "Aprende algo nuevo cada 5 minutos\n",
      "Rutas profesionales te guían de principiante a profesional\n",
      "Pon a prueba tu progreso de forma interactiva\n",
      "Inteligencia artificial y comunidad que responde tus dudas\n",
      "Descarga las clases a tu teléfono y aprende sin Internet\n",
      "Mide el progreso de tu empresa\n",
      "Organiza el aprendizaje de tu equipo\n",
      "Obtén certificaciones\n",
      "oficiales de:\n",
      "Alianza con ETS para la certificación TOEFL en Inglés\n",
      "Ir a los cursos\n",
      "Convenio de certificación en tecnologías cloud\n",
      "Ir a los cursos\n",
      "Domina la seguridad digital con CompTIA security+\n",
      "Ir a los cursos\n",
      "Nuestros profesores son\n",
      "expertos de la industria\n",
      "Carli Florida\n",
      "Teacher In-house en Platzi\n",
      "Curso de Python\n",
      "Anibal Rojas\n",
      "VP de Ingeniería en Platzi\n",
      "Curso de ChatGPT para Empresas\n",
      "Carolina Castañeda\n",
      "Online Tech Teacher en Platzi\n",
      "Curso de Bases de Datos con SQL\n",
      "Luis Martínez\n",
      "Platform Engineer en Deel\n",
      "Curso de Django\n"
     ]
    }
   ],
   "source": [
    "# Let's try one out. Change the website and add print statements to follow along.\n",
    "\n",
    "ed = Website(\"https://platzi.com/\")\n",
    "print(ed.title)\n",
    "print(ed.text)"
   ]
  },
  {
   "cell_type": "markdown",
   "id": "6a478a0c-2c53-48ff-869c-4d08199931e1",
   "metadata": {},
   "source": [
    "## Types of prompts\n",
    "\n",
    "You may know this already - but if not, you will get very familiar with it!\n",
    "\n",
    "Models like GPT4o have been trained to receive instructions in a particular way.\n",
    "\n",
    "They expect to receive:\n",
    "\n",
    "**A system prompt** that tells them what task they are performing and what tone they should use\n",
    "\n",
    "**A user prompt** -- the conversation starter that they should reply to"
   ]
  },
  {
   "cell_type": "code",
   "execution_count": 9,
   "id": "abdb8417-c5dc-44bc-9bee-2e059d162699",
   "metadata": {},
   "outputs": [],
   "source": [
    "# Define our system prompt - you can experiment with this later, changing the last sentence to 'Respond in markdown in Spanish.\"\n",
    "\n",
    "system_prompt = \"You are an assistant that analyzes the contents of a website \\\n",
    "and provides a short summary, ignoring text that might be navigation related. \\\n",
    "Respond in markdown.\""
   ]
  },
  {
   "cell_type": "code",
   "execution_count": 10,
   "id": "f0275b1b-7cfe-4f9d-abfa-7650d378da0c",
   "metadata": {},
   "outputs": [],
   "source": [
    "# A function that writes a User Prompt that asks for summaries of websites:\n",
    "\n",
    "def user_prompt_for(website):\n",
    "    user_prompt = f\"You are looking at a website titled {website.title}\"\n",
    "    user_prompt += \"\\nThe contents of this website is as follows; \\\n",
    "please provide a short summary of this website in markdown. \\\n",
    "If it includes news or announcements, then summarize these too.\\n\\n\"\n",
    "    user_prompt += website.text\n",
    "    return user_prompt"
   ]
  },
  {
   "cell_type": "code",
   "execution_count": 11,
   "id": "26448ec4-5c00-4204-baec-7df91d11ff2e",
   "metadata": {},
   "outputs": [
    {
     "name": "stdout",
     "output_type": "stream",
     "text": [
      "You are looking at a website titled Platzi: Plataforma de aprendizaje profesional online\n",
      "The contents of this website is as follows; please provide a short summary of this website in markdown. If it includes news or announcements, then summarize these too.\n",
      "\n",
      "Explorar\n",
      "Comunidad\n",
      "Planes\n",
      "Empresas\n",
      "Acceder\n",
      "No hay un limite de edad para aprender. Aprovecha el precio especial\n",
      "Ahorra:\n",
      "$991\n",
      "en Plan expert\n",
      "Paga a\n",
      "12\n",
      "MSI\n",
      "Termina en:\n",
      "...\n",
      "La escuela de tecnología\n",
      "de Latinoamérica\n",
      "Más de 5 millones de estudiantes y más de 3.000 empresas aprenden en Platzi\n",
      "¿Qué quieres aprender?\n",
      "Empieza cualquier curso sin costo.\n",
      "O consigue\n",
      "Platzi para tu empresa\n",
      "Escuela de\n",
      "Data Science e Inteligencia Artificial\n",
      "Escuela de\n",
      "Ciberseguridad\n",
      "Escuela de\n",
      "Liderazgo y Management\n",
      "Escuela de\n",
      "English Academy\n",
      "Escuela de\n",
      "Desarrollo Web\n",
      "Escuela de\n",
      "Marketing Digital\n",
      "Escuela de\n",
      "Producto\n",
      "Escuela de\n",
      "Contenido Audiovisual\n",
      "Escuela de\n",
      "Transformación Digital\n",
      "Escuela de\n",
      "Negocios\n",
      "Escuela de\n",
      "Talento y Recursos Humanos\n",
      "Escuela de\n",
      "Startups\n",
      "Escuela de\n",
      "Finanzas e Inversiones\n",
      "Escuela de\n",
      "DevOps y Cloud Computing\n",
      "Escuela de\n",
      "Diversidad e Inclusión\n",
      "Escuela de\n",
      "JavaScript\n",
      "Escuela de\n",
      "Programación y Software\n",
      "Escuela de\n",
      "Blockchain y Web3\n",
      "Escuela de\n",
      "Diseño Gráfico\n",
      "Ver las más populares\n",
      "Ver todas las escuelas\n",
      "Descubre tu ruta de aprendizaje personalizada\n",
      "Generar mi ruta\n",
      "Más de 3000\n",
      "empresas usan Platzi para la formación de sus equipos\n",
      "Agenda una demo\n",
      "Somos la autoridad\n",
      "en escalar la educación en línea en América Latina\n",
      "Aprende algo nuevo cada 5 minutos\n",
      "Rutas profesionales te guían de principiante a profesional\n",
      "Pon a prueba tu progreso de forma interactiva\n",
      "Inteligencia artificial y comunidad que responde tus dudas\n",
      "Descarga las clases a tu teléfono y aprende sin Internet\n",
      "Mide el progreso de tu empresa\n",
      "Organiza el aprendizaje de tu equipo\n",
      "Obtén certificaciones\n",
      "oficiales de:\n",
      "Alianza con ETS para la certificación TOEFL en Inglés\n",
      "Ir a los cursos\n",
      "Convenio de certificación en tecnologías cloud\n",
      "Ir a los cursos\n",
      "Domina la seguridad digital con CompTIA security+\n",
      "Ir a los cursos\n",
      "Nuestros profesores son\n",
      "expertos de la industria\n",
      "Carli Florida\n",
      "Teacher In-house en Platzi\n",
      "Curso de Python\n",
      "Anibal Rojas\n",
      "VP de Ingeniería en Platzi\n",
      "Curso de ChatGPT para Empresas\n",
      "Carolina Castañeda\n",
      "Online Tech Teacher en Platzi\n",
      "Curso de Bases de Datos con SQL\n",
      "Luis Martínez\n",
      "Platform Engineer en Deel\n",
      "Curso de Django\n"
     ]
    }
   ],
   "source": [
    "print(user_prompt_for(ed))"
   ]
  },
  {
   "cell_type": "markdown",
   "id": "ea211b5f-28e1-4a86-8e52-c0b7677cadcc",
   "metadata": {},
   "source": [
    "## Messages\n",
    "\n",
    "The API from OpenAI expects to receive messages in a particular structure.\n",
    "Many of the other APIs share this structure:\n",
    "\n",
    "```\n",
    "[\n",
    "    {\"role\": \"system\", \"content\": \"system message goes here\"},\n",
    "    {\"role\": \"user\", \"content\": \"user message goes here\"}\n",
    "]\n",
    "\n",
    "To give you a preview, the next 2 cells make a rather simple call - we won't stretch the might GPT (yet!)"
   ]
  },
  {
   "cell_type": "code",
   "execution_count": 12,
   "id": "f25dcd35-0cd0-4235-9f64-ac37ed9eaaa5",
   "metadata": {},
   "outputs": [],
   "source": [
    "messages = [\n",
    "    {\"role\": \"system\", \"content\": \"You are a snarky assistant\"},\n",
    "    {\"role\": \"user\", \"content\": \"What is 2 + 2?\"}\n",
    "]"
   ]
  },
  {
   "cell_type": "code",
   "execution_count": 14,
   "id": "21ed95c5-7001-47de-a36d-1d6673b403ce",
   "metadata": {},
   "outputs": [
    {
     "name": "stdout",
     "output_type": "stream",
     "text": [
      "Oh, we're starting off with math basics, huh? Well, 2 + 2 is 4. But if you're looking for something more exciting, let me know!\n",
      "ChatCompletion(id='chatcmpl-Ahl0r99uhufN5NIsF2MUyq5GgvMbQ', choices=[Choice(finish_reason='stop', index=0, logprobs=None, message=ChatCompletionMessage(content=\"Oh, we're starting off with math basics, huh? Well, 2 + 2 is 4. But if you're looking for something more exciting, let me know!\", refusal=None, role='assistant', audio=None, function_call=None, tool_calls=None))], created=1734992185, model='gpt-4o-mini-2024-07-18', object='chat.completion', service_tier=None, system_fingerprint='fp_0aa8d3e20b', usage=CompletionUsage(completion_tokens=36, prompt_tokens=26, total_tokens=62, completion_tokens_details=CompletionTokensDetails(accepted_prediction_tokens=0, audio_tokens=0, reasoning_tokens=0, rejected_prediction_tokens=0), prompt_tokens_details=PromptTokensDetails(audio_tokens=0, cached_tokens=0)))\n"
     ]
    }
   ],
   "source": [
    "# To give you a preview -- calling OpenAI with system and user messages:\n",
    "\n",
    "response = openai.chat.completions.create(model=\"gpt-4o-mini\", messages=messages)\n",
    "print(response.choices[0].message.content)\n",
    "print(response)"
   ]
  },
  {
   "cell_type": "markdown",
   "id": "d06e8d78-ce4c-4b05-aa8e-17050c82bb47",
   "metadata": {},
   "source": [
    "## And now let's build useful messages for GPT-4o-mini, using a function"
   ]
  },
  {
   "cell_type": "code",
   "execution_count": 15,
   "id": "0134dfa4-8299-48b5-b444-f2a8c3403c88",
   "metadata": {},
   "outputs": [],
   "source": [
    "# See how this function creates exactly the format above\n",
    "\n",
    "def messages_for(website):\n",
    "    return [\n",
    "        {\"role\": \"system\", \"content\": system_prompt},\n",
    "        {\"role\": \"user\", \"content\": user_prompt_for(website)}\n",
    "    ]"
   ]
  },
  {
   "cell_type": "code",
   "execution_count": 16,
   "id": "36478464-39ee-485c-9f3f-6a4e458dbc9c",
   "metadata": {},
   "outputs": [
    {
     "data": {
      "text/plain": [
       "[{'role': 'system',\n",
       "  'content': 'You are an assistant that analyzes the contents of a website and provides a short summary, ignoring text that might be navigation related. Respond in markdown.'},\n",
       " {'role': 'user',\n",
       "  'content': 'You are looking at a website titled Platzi: Plataforma de aprendizaje profesional online\\nThe contents of this website is as follows; please provide a short summary of this website in markdown. If it includes news or announcements, then summarize these too.\\n\\nExplorar\\nComunidad\\nPlanes\\nEmpresas\\nAcceder\\nNo hay un limite de edad para aprender. Aprovecha el precio especial\\nAhorra:\\n$991\\nen Plan expert\\nPaga a\\n12\\nMSI\\nTermina en:\\n...\\nLa escuela de tecnología\\nde Latinoamérica\\nMás de 5 millones de estudiantes y más de 3.000 empresas aprenden en Platzi\\n¿Qué quieres aprender?\\nEmpieza cualquier curso sin costo.\\nO consigue\\nPlatzi para tu empresa\\nEscuela de\\nData Science e Inteligencia Artificial\\nEscuela de\\nCiberseguridad\\nEscuela de\\nLiderazgo y Management\\nEscuela de\\nEnglish Academy\\nEscuela de\\nDesarrollo Web\\nEscuela de\\nMarketing Digital\\nEscuela de\\nProducto\\nEscuela de\\nContenido Audiovisual\\nEscuela de\\nTransformación Digital\\nEscuela de\\nNegocios\\nEscuela de\\nTalento y Recursos Humanos\\nEscuela de\\nStartups\\nEscuela de\\nFinanzas e Inversiones\\nEscuela de\\nDevOps y Cloud Computing\\nEscuela de\\nDiversidad e Inclusión\\nEscuela de\\nJavaScript\\nEscuela de\\nProgramación y Software\\nEscuela de\\nBlockchain y Web3\\nEscuela de\\nDiseño Gráfico\\nVer las más populares\\nVer todas las escuelas\\nDescubre tu ruta de aprendizaje personalizada\\nGenerar mi ruta\\nMás de 3000\\nempresas usan Platzi para la formación de sus equipos\\nAgenda una demo\\nSomos la autoridad\\nen escalar la educación en línea en América Latina\\nAprende algo nuevo cada 5 minutos\\nRutas profesionales te guían de principiante a profesional\\nPon a prueba tu progreso de forma interactiva\\nInteligencia artificial y comunidad que responde tus dudas\\nDescarga las clases a tu teléfono y aprende sin Internet\\nMide el progreso de tu empresa\\nOrganiza el aprendizaje de tu equipo\\nObtén certificaciones\\noficiales de:\\nAlianza con ETS para la certificación TOEFL en Inglés\\nIr a los cursos\\nConvenio de certificación en tecnologías cloud\\nIr a los cursos\\nDomina la seguridad digital con CompTIA security+\\nIr a los cursos\\nNuestros profesores son\\nexpertos de la industria\\nCarli Florida\\nTeacher In-house en Platzi\\nCurso de Python\\nAnibal Rojas\\nVP de Ingeniería en Platzi\\nCurso de ChatGPT para Empresas\\nCarolina Castañeda\\nOnline Tech Teacher en Platzi\\nCurso de Bases de Datos con SQL\\nLuis Martínez\\nPlatform Engineer en Deel\\nCurso de Django'}]"
      ]
     },
     "execution_count": 16,
     "metadata": {},
     "output_type": "execute_result"
    }
   ],
   "source": [
    "# Try this out, and then try for a few more websites\n",
    "\n",
    "messages_for(ed)"
   ]
  },
  {
   "cell_type": "markdown",
   "id": "16f49d46-bf55-4c3e-928f-68fc0bf715b0",
   "metadata": {},
   "source": [
    "## Time to bring it together - the API for OpenAI is very simple!"
   ]
  },
  {
   "cell_type": "code",
   "execution_count": 17,
   "id": "905b9919-aba7-45b5-ae65-81b3d1d78e34",
   "metadata": {},
   "outputs": [],
   "source": [
    "# And now: call the OpenAI API. You will get very familiar with this!\n",
    "\n",
    "def summarize(url):\n",
    "    website = Website(url)\n",
    "    response = openai.chat.completions.create(\n",
    "        model = \"gpt-4o-mini\",\n",
    "        messages = messages_for(website)\n",
    "    )\n",
    "    return response.choices[0].message.content"
   ]
  },
  {
   "cell_type": "code",
   "execution_count": 18,
   "id": "05e38d41-dfa4-4b20-9c96-c46ea75d9fb5",
   "metadata": {},
   "outputs": [
    {
     "data": {
      "text/plain": [
       "'# Platzi: Plataforma de Aprendizaje Profesional Online\\n\\nPlatzi es una plataforma de aprendizaje en línea enfocada en la educación tecnológica en América Latina, con más de 5 millones de estudiantes y más de 3,000 empresas que utilizan sus servicios. Ofrece una variedad de cursos en diversas disciplinas, tales como:\\n\\n- Data Science e Inteligencia Artificial\\n- Ciberseguridad\\n- Liderazgo y Management\\n- Desarrollo Web\\n- Marketing Digital\\n- Blockchain y Web3\\n- Entre otros\\n\\nLos estudiantes pueden comenzar cualquier curso sin costo y tienen la opción de generar rutas de aprendizaje personalizadas que los guían desde el nivel principiante hasta el profesional. La plataforma también incluye características como pruebas interactivas, acceso offline a las clases y certificaciones oficiales en colaboración con entidades como ETS para el TOEFL y CompTIA para seguridad digital.\\n\\nAdemás, Platzi ofrece planes especiales y oportunidades para empresas en la formación de sus equipos, así como la posibilidad de agendar demostraciones de sus servicios.\\n\\n## Anuncio Especial\\nPlatzi actualmente está ofreciendo un precio especial que permite ahorrar $991 en el Plan Expert, con la opción de pagar a plazos durante 12 meses.'"
      ]
     },
     "execution_count": 18,
     "metadata": {},
     "output_type": "execute_result"
    }
   ],
   "source": [
    "summarize(\"https://platzi.com/\")"
   ]
  },
  {
   "cell_type": "code",
   "execution_count": 19,
   "id": "3d926d59-450e-4609-92ba-2d6f244f1342",
   "metadata": {},
   "outputs": [],
   "source": [
    "# A function to display this nicely in the Jupyter output, using markdown\n",
    "\n",
    "def display_summary(url):\n",
    "    summary = summarize(url)\n",
    "    display(Markdown(summary))"
   ]
  },
  {
   "cell_type": "code",
   "execution_count": 20,
   "id": "3018853a-445f-41ff-9560-d925d1774b2f",
   "metadata": {},
   "outputs": [
    {
     "data": {
      "text/markdown": [
       "# Platzi: Plataforma de Aprendizaje Profesional Online\n",
       "\n",
       "Platzi es una plataforma de educación en línea enfocada en el desarrollo profesional, especialmente en tecnología, con más de 5 millones de estudiantes y más de 3,000 empresas utilizando sus servicios. La plataforma ofrece una amplia gama de cursos y programas en diversas áreas como Ciencia de Datos, Ciberseguridad, Marketing Digital, Desarrollo Web, y más.\n",
       "\n",
       "## Ofertas y Características\n",
       "\n",
       "- **Planes de Aprendizaje**: Incluye un precio especial para el Plan Expert y opciones de pago a 12 meses sin interés.\n",
       "- **Metodologías de Aprendizaje**: Rutas profesionales que guían a los estudiantes desde nivel principiante hasta profesional, con la posibilidad de aprender de forma interactiva.\n",
       "- **Certificaciones**: Alianzas para certificaciones oficiales, incluyendo TOEFL y herramientas de tecnología cloud.\n",
       "- **Acceso a Cursos**: Se pueden empezar cursos sin costo y descargar clases para aprender sin conexión a Internet.\n",
       "- **Soporte Educativo**: La plataforma cuenta con inteligencia artificial y una comunidad para resolver dudas.\n",
       "\n",
       "## Anuncios\n",
       "\n",
       "- **Promociones**: Un llamado a aprovechar ofertas especiales, destacando el ahorro en el Plan Expert.\n",
       "\n",
       "Platzi se posiciona como un líder educativo en América Latina, con un fuerte enfoque en la formación continua y el desarrollo de habilidades técnicas para el mercado laboral."
      ],
      "text/plain": [
       "<IPython.core.display.Markdown object>"
      ]
     },
     "metadata": {},
     "output_type": "display_data"
    }
   ],
   "source": [
    "display_summary(\"https://platzi.com\")"
   ]
  },
  {
   "cell_type": "markdown",
   "id": "b3bcf6f4-adce-45e9-97ad-d9a5d7a3a624",
   "metadata": {},
   "source": [
    "# Let's try more websites\n",
    "\n",
    "Note that this will only work on websites that can be scraped using this simplistic approach.\n",
    "\n",
    "Websites that are rendered with Javascript, like React apps, won't show up. See the community-contributions folder for a Selenium implementation that gets around this. You'll need to read up on installing Selenium (ask ChatGPT!)\n",
    "\n",
    "Also Websites protected with CloudFront (and similar) may give 403 errors - many thanks Andy J for pointing this out.\n",
    "\n",
    "But many websites will work just fine!"
   ]
  },
  {
   "cell_type": "code",
   "execution_count": 21,
   "id": "45d83403-a24c-44b5-84ac-961449b4008f",
   "metadata": {},
   "outputs": [
    {
     "data": {
      "text/markdown": [
       "# Summary of CNN Website\n",
       "\n",
       "CNN's website provides up-to-date news articles, videos, and live broadcasts covering various topics including U.S. and world news, politics, business, health, entertainment, climate, science, and sports. It features specific sections dedicated to ongoing global conflicts such as the Ukraine-Russia war and the Israel-Hamas war.\n",
       "\n",
       "## Recent News Highlights:\n",
       "- **Matt Gaetz**: An ethics panel found evidence against Matt Gaetz for violating Florida state laws related to sexual misconduct. \n",
       "- **Trump and Politics**: Trump has made bold statements concerning immigrants and has expressed concerns about Elon Musk's influence in the GOP. His tensions with political dynamics are also covered.\n",
       "- **International Affairs**: Insights into the siege faced by Venezuelan opposition members and reports on North Korean soldiers using fake Russian IDs.\n",
       "- **Nissan-Honda Merger**: The two automakers announced plans to merge, creating the world’s third-largest automotive company.\n",
       "- **Cultural Updates**: King Charles to deliver a Christmas message in a break from tradition, and significant renovations in historical sites like Rome’s Trevi Fountain.\n",
       "\n",
       "The site encourages user interaction by soliciting feedback on advertisements and offers a variety of multimedia content including articles, videos, podcasts, and live TV options."
      ],
      "text/plain": [
       "<IPython.core.display.Markdown object>"
      ]
     },
     "metadata": {},
     "output_type": "display_data"
    }
   ],
   "source": [
    "display_summary(\"https://cnn.com\")"
   ]
  },
  {
   "cell_type": "code",
   "execution_count": 22,
   "id": "75e9fd40-b354-4341-991e-863ef2e59db7",
   "metadata": {},
   "outputs": [
    {
     "data": {
      "text/markdown": [
       "# Anthropic Overview\n",
       "\n",
       "Anthropic is an AI safety and research company based in San Francisco, focused on developing reliable and beneficial AI systems. Their interdisciplinary team brings expertise in machine learning, physics, policy, and product development.\n",
       "\n",
       "## Key Offerings\n",
       "\n",
       "- **Claude 3.5 Sonnet**: The most advanced AI model from Anthropic, now available for users.\n",
       "- **Claude API**: Enables developers to build AI-powered applications.\n",
       "- **Claude for Enterprise**: Tailored solutions for organizations looking to integrate AI technology.\n",
       "\n",
       "## Recent Announcements\n",
       "\n",
       "- **October 22, 2024**: Introduction of new features including the Claude 3.5 Sonnet and Claude 3.5 Haiku, along with the rollout of \"computer use\".\n",
       "- **September 4, 2024**: Updates regarding Claude for Enterprise.\n",
       "\n",
       "## Research Focus\n",
       "\n",
       "Anthropic emphasizes AI safety and has published research on topics such as:\n",
       "- **Constitutional AI**: An approach aimed at ensuring harmlessness in AI systems.\n",
       "- **Core Views on AI Safety**: A detailed exploration of the principles guiding their AI safety efforts. \n",
       "\n",
       "Overall, Anthropic is committed to advancing AI technology while prioritizing safety and ethical considerations."
      ],
      "text/plain": [
       "<IPython.core.display.Markdown object>"
      ]
     },
     "metadata": {},
     "output_type": "display_data"
    }
   ],
   "source": [
    "display_summary(\"https://anthropic.com\")"
   ]
  },
  {
   "cell_type": "markdown",
   "id": "c951be1a-7f1b-448f-af1f-845978e47e2c",
   "metadata": {},
   "source": [
    "<table style=\"margin: 0; text-align: left;\">\n",
    "    <tr>\n",
    "        <td style=\"width: 150px; height: 150px; vertical-align: middle;\">\n",
    "            <img src=\"../business.jpg\" width=\"150\" height=\"150\" style=\"display: block;\" />\n",
    "        </td>\n",
    "        <td>\n",
    "            <h2 style=\"color:#181;\">Business applications</h2>\n",
    "            <span style=\"color:#181;\">In this exercise, you experienced calling the Cloud API of a Frontier Model (a leading model at the frontier of AI) for the first time. We will be using APIs like OpenAI at many stages in the course, in addition to building our own LLMs.\n",
    "\n",
    "More specifically, we've applied this to Summarization - a classic Gen AI use case to make a summary. This can be applied to any business vertical - summarizing the news, summarizing financial performance, summarizing a resume in a cover letter - the applications are limitless. Consider how you could apply Summarization in your business, and try prototyping a solution.</span>\n",
    "        </td>\n",
    "    </tr>\n",
    "</table>\n",
    "\n",
    "<table style=\"margin: 0; text-align: left;\">\n",
    "    <tr>\n",
    "        <td style=\"width: 150px; height: 150px; vertical-align: middle;\">\n",
    "            <img src=\"../important.jpg\" width=\"150\" height=\"150\" style=\"display: block;\" />\n",
    "        </td>\n",
    "        <td>\n",
    "            <h2 style=\"color:#900;\">Before you continue - now try yourself</h2>\n",
    "            <span style=\"color:#900;\">Use the cell below to make your own simple commercial example. Stick with the summarization use case for now. Here's an idea: write something that will take the contents of an email, and will suggest an appropriate short subject line for the email. That's the kind of feature that might be built into a commercial email tool.</span>\n",
    "        </td>\n",
    "    </tr>\n",
    "</table>"
   ]
  },
  {
   "cell_type": "code",
   "execution_count": null,
   "id": "00743dac-0e70-45b7-879a-d7293a6f68a6",
   "metadata": {},
   "outputs": [],
   "source": [
    "# Step 1: Create your prompts\n",
    "\n",
    "system_prompt = \"something here\"\n",
    "    Can be pasted here\n",
    "\"\"\"\n",
    "\n",
    "# Step 2: Make the messages list\n",
    "\n",
    "messages = [] # fill this in\n",
    "\n",
    "# Step 3: Call OpenAI\n",
    "\n",
    "response =\n",
    "\n",
    "# Step 4: print the result\n",
    "\n",
    "print("
   ]
  },
  {
   "cell_type": "markdown",
   "id": "36ed9f14-b349-40e9-a42c-b367e77f8bda",
   "metadata": {},
   "source": [
    "## An extra exercise for those who enjoy web scraping\n",
    "\n",
    "You may notice that if you try `display_summary(\"https://openai.com\")` - it doesn't work! That's because OpenAI has a fancy website that uses Javascript. There are many ways around this that some of you might be familiar with. For example, Selenium is a hugely popular framework that runs a browser behind the scenes, renders the page, and allows you to query it. If you have experience with Selenium, Playwright or similar, then feel free to improve the Website class to use them. In the community-contributions folder, you'll find an example Selenium solution from a student (thank you!)"
   ]
  },
  {
   "cell_type": "markdown",
   "id": "eeab24dc-5f90-4570-b542-b0585aca3eb6",
   "metadata": {},
   "source": [
    "# Sharing your code\n",
    "\n",
    "I'd love it if you share your code afterwards so I can share it with others! You'll notice that some students have already made changes (including a Selenium implementation) which you will find in the community-contributions folder. If you'd like add your changes to that folder, submit a Pull Request with your new versions in that folder and I'll merge your changes.\n",
    "\n",
    "If you're not an expert with git (and I am not!) then GPT has given some nice instructions on how to submit a Pull Request. It's a bit of an involved process, but once you've done it once it's pretty clear. As a pro-tip: it's best if you clear the outputs of your Jupyter notebooks (Edit >> Clean outputs of all cells, and then Save) for clean notebooks.\n",
    "\n",
    "PR instructions courtesy of an AI friend: https://chatgpt.com/share/670145d5-e8a8-8012-8f93-39ee4e248b4c"
   ]
  },
  {
   "cell_type": "code",
   "execution_count": null,
   "id": "682eff74-55c4-4d4b-b267-703edbc293c7",
   "metadata": {},
   "outputs": [],
   "source": []
  }
 ],
 "metadata": {
  "kernelspec": {
   "display_name": "Python 3 (ipykernel)",
   "language": "python",
   "name": "python3"
  },
  "language_info": {
   "codemirror_mode": {
    "name": "ipython",
    "version": 3
   },
   "file_extension": ".py",
   "mimetype": "text/x-python",
   "name": "python",
   "nbconvert_exporter": "python",
   "pygments_lexer": "ipython3",
   "version": "3.9.6"
  }
 },
 "nbformat": 4,
 "nbformat_minor": 5
}
