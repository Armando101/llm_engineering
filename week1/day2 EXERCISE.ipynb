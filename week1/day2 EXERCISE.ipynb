{
 "cells": [
  {
   "cell_type": "markdown",
   "id": "d15d8294-3328-4e07-ad16-8a03e9bbfdb9",
   "metadata": {},
   "source": [
    "# Welcome to your first assignment!\n",
    "\n",
    "Instructions are below. Please give this a try, and look in the solutions folder if you get stuck (or feel free to ask me!)"
   ]
  },
  {
   "cell_type": "markdown",
   "id": "ada885d9-4d42-4d9b-97f0-74fbbbfe93a9",
   "metadata": {},
   "source": [
    "<table style=\"margin: 0; text-align: left;\">\n",
    "    <tr>\n",
    "        <td style=\"width: 150px; height: 150px; vertical-align: middle;\">\n",
    "            <img src=\"../resources.jpg\" width=\"150\" height=\"150\" style=\"display: block;\" />\n",
    "        </td>\n",
    "        <td>\n",
    "            <h2 style=\"color:#f71;\">Just before we get to the assignment --</h2>\n",
    "            <span style=\"color:#f71;\">I thought I'd take a second to point you at this page of useful resources for the course. This includes links to all the slides.<br/>\n",
    "            <a href=\"https://edwarddonner.com/2024/11/13/llm-engineering-resources/\">https://edwarddonner.com/2024/11/13/llm-engineering-resources/</a><br/>\n",
    "            Please keep this bookmarked, and I'll continue to add more useful links there over time.\n",
    "            </span>\n",
    "        </td>\n",
    "    </tr>\n",
    "</table>"
   ]
  },
  {
   "cell_type": "markdown",
   "id": "6e9fa1fc-eac5-4d1d-9be4-541b3f2b3458",
   "metadata": {},
   "source": [
    "# HOMEWORK EXERCISE ASSIGNMENT\n",
    "\n",
    "Upgrade the day 1 project to summarize a webpage to use an Open Source model running locally via Ollama rather than OpenAI\n",
    "\n",
    "You'll be able to use this technique for all subsequent projects if you'd prefer not to use paid APIs.\n",
    "\n",
    "**Benefits:**\n",
    "1. No API charges - open-source\n",
    "2. Data doesn't leave your box\n",
    "\n",
    "**Disadvantages:**\n",
    "1. Significantly less power than Frontier Model\n",
    "\n",
    "## Recap on installation of Ollama\n",
    "\n",
    "Simply visit [ollama.com](https://ollama.com) and install!\n",
    "\n",
    "Once complete, the ollama server should already be running locally.  \n",
    "If you visit:  \n",
    "[http://localhost:11434/](http://localhost:11434/)\n",
    "\n",
    "You should see the message `Ollama is running`.  \n",
    "\n",
    "If not, bring up a new Terminal (Mac) or Powershell (Windows) and enter `ollama serve`  \n",
    "And in another Terminal (Mac) or Powershell (Windows), enter `ollama pull llama3.2`  \n",
    "Then try [http://localhost:11434/](http://localhost:11434/) again.\n",
    "\n",
    "If Ollama is slow on your machine, try using `llama3.2:1b` as an alternative. Run `ollama pull llama3.2:1b` from a Terminal or Powershell, and change the code below from `MODEL = \"llama3.2\"` to `MODEL = \"llama3.2:1b\"`"
   ]
  },
  {
   "cell_type": "code",
   "execution_count": 2,
   "id": "4e2a9393-7767-488e-a8bf-27c12dca35bd",
   "metadata": {},
   "outputs": [],
   "source": [
    "# imports\n",
    "\n",
    "import requests\n",
    "from bs4 import BeautifulSoup\n",
    "from IPython.display import Markdown, display"
   ]
  },
  {
   "cell_type": "code",
   "execution_count": 3,
   "id": "29ddd15d-a3c5-4f4e-a678-873f56162724",
   "metadata": {},
   "outputs": [],
   "source": [
    "# Constants\n",
    "\n",
    "OLLAMA_API = \"http://localhost:11434/api/chat\"\n",
    "HEADERS = {\"Content-Type\": \"application/json\"}\n",
    "MODEL = \"llama3.2\""
   ]
  },
  {
   "cell_type": "code",
   "execution_count": 4,
   "id": "dac0a679-599c-441f-9bf2-ddc73d35b940",
   "metadata": {},
   "outputs": [],
   "source": [
    "# Create a messages list using the same format that we used for OpenAI\n",
    "\n",
    "messages = [\n",
    "    {\"role\": \"user\", \"content\": \"Describe some of the business applications of Generative AI\"}\n",
    "]"
   ]
  },
  {
   "cell_type": "code",
   "execution_count": 5,
   "id": "7bb9c624-14f0-4945-a719-8ddb64f66f47",
   "metadata": {},
   "outputs": [],
   "source": [
    "payload = {\n",
    "        \"model\": MODEL,\n",
    "        \"messages\": messages,\n",
    "        \"stream\": False\n",
    "    }"
   ]
  },
  {
   "cell_type": "code",
   "execution_count": 6,
   "id": "42b9f644-522d-4e05-a691-56e7658c0ea9",
   "metadata": {},
   "outputs": [
    {
     "name": "stdout",
     "output_type": "stream",
     "text": [
      "Generative AI has numerous business applications across various industries. Here are some examples:\n",
      "\n",
      "1. **Content Creation**: Generative AI can be used to generate high-quality content such as articles, social media posts, product descriptions, and more. This can help businesses save time and resources while maintaining a consistent tone and style.\n",
      "2. **Personalization**: Generative AI can be used to create personalized recommendations for customers based on their behavior, preferences, and demographic data. For example, online retailers can use generative AI to suggest products that are likely to interest a customer based on their browsing history.\n",
      "3. **Design and Prototyping**: Generative AI can be used to generate designs, prototypes, and mockups for various products such as clothing, furniture, and electronics. This can help businesses speed up the design process and reduce costs associated with traditional design methods.\n",
      "4. **Marketing Automation**: Generative AI can be used to automate marketing tasks such as email marketing, social media advertising, and lead generation. For example, a business can use generative AI to generate personalized email campaigns based on customer data.\n",
      "5. **Customer Service**: Generative AI can be used to power chatbots and virtual assistants that provide 24/7 customer support. This can help businesses reduce the cost of customer service while improving response times and accuracy.\n",
      "6. **Data Analysis**: Generative AI can be used to analyze large datasets and identify patterns, trends, and insights that may not be visible through traditional data analysis methods. For example, a business can use generative AI to analyze customer behavior and identify areas for improvement.\n",
      "7. **Product Development**: Generative AI can be used to generate new product ideas based on customer feedback, market trends, and competitor analysis. This can help businesses speed up the product development process while reducing costs associated with traditional design methods.\n",
      "8. **Language Translation**: Generative AI can be used to translate text, speech, and even entire documents from one language to another. This can help businesses expand their global reach while improving communication with international customers.\n",
      "9. **Image and Video Generation**: Generative AI can be used to generate high-quality images and videos that can be used in various marketing campaigns, such as product showcases or social media content.\n",
      "10. **Supply Chain Optimization**: Generative AI can be used to optimize supply chain operations by predicting demand, managing inventory levels, and optimizing logistics routes.\n",
      "\n",
      "Some examples of businesses that are already using generative AI include:\n",
      "\n",
      "* **Retailers**: Using generative AI to generate personalized recommendations, design products, and automate marketing tasks.\n",
      "* **Travel Companies**: Using generative AI to generate travel itineraries, optimize route planning, and predict demand.\n",
      "* **Healthcare Organizations**: Using generative AI to analyze medical data, identify patterns, and develop personalized treatment plans.\n",
      "* **Finance Institutions**: Using generative AI to analyze financial data, detect anomalies, and predict market trends.\n",
      "\n",
      "These are just a few examples of the many business applications of Generative AI. As the technology continues to evolve, we can expect to see even more innovative uses in various industries.\n"
     ]
    }
   ],
   "source": [
    "response = requests.post(OLLAMA_API, json=payload, headers=HEADERS)\n",
    "print(response.json()['message']['content'])"
   ]
  },
  {
   "cell_type": "markdown",
   "id": "6a021f13-d6a1-4b96-8e18-4eae49d876fe",
   "metadata": {},
   "source": [
    "# Introducing the ollama package\n",
    "\n",
    "And now we'll do the same thing, but using the elegant ollama python package instead of a direct HTTP call.\n",
    "\n",
    "Under the hood, it's making the same call as above to the ollama server running at localhost:11434"
   ]
  },
  {
   "cell_type": "code",
   "execution_count": 7,
   "id": "7745b9c4-57dc-4867-9180-61fa5db55eb8",
   "metadata": {},
   "outputs": [
    {
     "name": "stdout",
     "output_type": "stream",
     "text": [
      "Generative AI has numerous business applications across various industries, including:\n",
      "\n",
      "1. **Content Creation**: Generative AI can be used to create personalized content such as articles, social media posts, and product descriptions, reducing the need for human writers and editors.\n",
      "2. **Image and Video Generation**: Companies can use generative AI to create high-quality images and videos for marketing materials, e-commerce websites, and social media platforms.\n",
      "3. **Product Design**: Generative AI can be used to design products such as furniture, clothing, and accessories, reducing the need for physical prototypes and speeding up the product development process.\n",
      "4. **Chatbots and Virtual Assistants**: Generative AI can be used to create more sophisticated chatbots and virtual assistants that can understand natural language and provide personalized customer support.\n",
      "5. **Music and Audio Generation**: Generative AI can be used to create music, audio effects, and soundscapes for various industries such as film, television, and advertising.\n",
      "6. **Predictive Maintenance**: Generative AI can be used to analyze sensor data from machines and predict when maintenance is required, reducing downtime and increasing efficiency.\n",
      "7. **Market Research and Analysis**: Generative AI can be used to analyze large datasets and identify trends, patterns, and correlations that may not be visible to human analysts.\n",
      "8. **Personalized Marketing**: Generative AI can be used to create personalized marketing campaigns based on customer behavior, preferences, and demographics.\n",
      "9. **Language Translation**: Generative AI can be used to improve language translation accuracy and speed, enabling businesses to expand into new markets more easily.\n",
      "10. **Data Augmentation**: Generative AI can be used to augment datasets by generating new, high-quality data that can be used for training machine learning models.\n",
      "\n",
      "Some specific business applications of generative AI include:\n",
      "\n",
      "* Amazon's use of generative AI to create personalized product recommendations\n",
      "* Google's use of generative AI to improve language translation and image recognition\n",
      "* Netflix's use of generative AI to recommend TV shows and movies based on user behavior\n",
      "* IBM's use of generative AI to create personalized customer experiences\n",
      "* Salesforce's use of generative AI to predict customer churn and improve sales forecasting.\n",
      "\n",
      "These are just a few examples, but the applications of generative AI are vast and continue to grow as the technology advances.\n"
     ]
    }
   ],
   "source": [
    "import ollama\n",
    "\n",
    "response = ollama.chat(model=MODEL, messages=messages)\n",
    "print(response['message']['content'])"
   ]
  },
  {
   "cell_type": "markdown",
   "id": "a4704e10-f5fb-4c15-a935-f046c06fb13d",
   "metadata": {},
   "source": [
    "## Alternative approach - using OpenAI python library to connect to Ollama"
   ]
  },
  {
   "cell_type": "code",
   "execution_count": 8,
   "id": "23057e00-b6fc-4678-93a9-6b31cb704bff",
   "metadata": {},
   "outputs": [
    {
     "name": "stdout",
     "output_type": "stream",
     "text": [
      "Generative AI has numerous business applications across various industries, leveraging its ability to create new content, improve existing processes, and drive innovation. Some examples include:\n",
      "\n",
      "1. Content Generation:\n",
      "   - Automated blog posting for marketing teams\n",
      "   - Creating product descriptions from text-based data sets\n",
      "   - Designing advertisements with personalized messaging\n",
      "\n",
      "2. Image and Audio Creation:\n",
      "   - Artificial photography for advertising campaigns with highly realistic images\n",
      "   - Music creation for films and commercials using machine learning algorithms\n",
      "   - Customization of product designs in e-commerce platforms\n",
      "\n",
      "3. Speech Generation:\n",
      "   - Chatbots that provide customer support to assist various departments of the company\n",
      "   - Personalized voice recordings on marketing materials\n",
      "   - Synthetic speech synthesis for automated messages\n",
      "\n",
      "4. Predictive Analytics:\n",
      "   - Generating sales predictions through AI models trained on historical market data\n",
      "   - Predicting demand in supply chain operations using machine learning algorithms\n",
      "\n",
      "5. Quality Assessment and Inspection:\n",
      "   - AI-assisted quality control of products such as electronics, food, or pharmaceuticals\n",
      "   - Analyzing documents to find discrepancies with legal or contractual requirements\n",
      "\n",
      "6. Design Assistance Tools:\n",
      "   - Using generative models for product design in industries like fashion or automotive\n",
      "\n",
      "7. Branding and Personalization:\n",
      "   - AI-assisted branding suggestions using text analytics and machine learning algorithms\n",
      "   - Personalized customer messages through social media platforms using sentiment analysis\n",
      "\n",
      "8. Cybersecurity:\n",
      "   - Artificial intelligence tools detecting patterns that are indicative of security breaches\n",
      "   - Creating custom malware signatures to enhance the effectiveness of virus scanning software\n",
      "\n",
      "9. Marketing Automation:\n",
      "   - Automating personalization of emails and marketing materials based on historical information about users or customers\n",
      "   - AI-generated content such as SEO-friendly product descriptions or unique meta tags.\n",
      "\n",
      "10. Training Materials Creation:\n",
      "    - Automatic generation of personalized learning resources for online courses or e-learning platforms.\n",
      "    - Machine learning-based model assisting in knowledge base creation for internal training resources\n"
     ]
    }
   ],
   "source": [
    "# There's actually an alternative approach that some people might prefer\n",
    "# You can use the OpenAI client python library to call Ollama:\n",
    "\n",
    "from openai import OpenAI\n",
    "ollama_via_openai = OpenAI(base_url='http://localhost:11434/v1', api_key='ollama')\n",
    "\n",
    "response = ollama_via_openai.chat.completions.create(\n",
    "    model=MODEL,\n",
    "    messages=messages\n",
    ")\n",
    "\n",
    "print(response.choices[0].message.content)"
   ]
  },
  {
   "cell_type": "markdown",
   "id": "1622d9bb-5c68-4d4e-9ca4-b492c751f898",
   "metadata": {},
   "source": [
    "# NOW the exercise for you\n",
    "\n",
    "Take the code from day1 and incorporate it here, to build a website summarizer that uses Llama 3.2 running locally instead of OpenAI; use either of the above approaches."
   ]
  },
  {
   "cell_type": "code",
   "execution_count": 28,
   "id": "402d5686-4e76-4110-b65a-b3906c35c0a4",
   "metadata": {},
   "outputs": [],
   "source": [
    "\n",
    "import os\n",
    "import requests\n",
    "from dotenv import load_dotenv\n",
    "from bs4 import BeautifulSoup\n",
    "from IPython.display import Markdown, display\n",
    "from openai import OpenAI\n",
    "import ollama\n",
    "\n",
    "OLLAMA_API = \"http://localhost:11434/api/chat\"\n",
    "HEADERS = {\"Content-Type\": \"application/json\"}\n",
    "MODEL = \"llama3.2\"\n",
    "OLLAMA_URL = \"http://localhost:11434/v1\"\n",
    "OLLAMA_API_KEY = \"ollama\"\n",
    "system_prompt = \"You are an assistant that analyzes the contents of a website \\\n",
    "and provides a short summary, ignoring text that might be navigation related. \\\n",
    "Respond in markdown.\"\n"
   ]
  },
  {
   "cell_type": "code",
   "execution_count": 29,
   "id": "680e41ad-a92e-4000-acf1-0673f9bfe27a",
   "metadata": {},
   "outputs": [],
   "source": [
    "# A class to represent a Webpage\n",
    "# If you're not familiar with Classes, check out the \"Intermediate Python\" notebook\n",
    "\n",
    "# Some websites need you to use proper headers when fetching them:\n",
    "headers = {\n",
    " \"User-Agent\": \"Mozilla/5.0 (Windows NT 10.0; Win64; x64) AppleWebKit/537.36 (KHTML, like Gecko) Chrome/117.0.0.0 Safari/537.36\"\n",
    "}\n",
    "\n",
    "class Website:\n",
    "\n",
    "    def __init__(self, url):\n",
    "        \"\"\"\n",
    "        Create this Website object from the given url using the BeautifulSoup library\n",
    "        \"\"\"\n",
    "        self.url = url\n",
    "        response = requests.get(url, headers=headers)\n",
    "        soup = BeautifulSoup(response.content, 'html.parser')\n",
    "        self.title = soup.title.string if soup.title else \"No title found\"\n",
    "        for irrelevant in soup.body([\"script\", \"style\", \"img\", \"input\"]):\n",
    "            irrelevant.decompose()\n",
    "        self.text = soup.body.get_text(separator=\"\\n\", strip=True)"
   ]
  },
  {
   "cell_type": "code",
   "execution_count": 30,
   "id": "fc8c0136-ed5b-4c41-83aa-7fcefbd629fd",
   "metadata": {},
   "outputs": [],
   "source": [
    "# A function that writes a User Prompt that asks for summaries of websites:\n",
    "\n",
    "def user_prompt_for(website):\n",
    "    user_prompt = f\"You are looking at a website titled {website.title}\"\n",
    "    user_prompt += \"\\nThe contents of this website is as follows; \\\n",
    "please provide a short summary of this website in markdown. \\\n",
    "If it includes news or announcements, then summarize these too.\\n\\n\"\n",
    "    user_prompt += website.text\n",
    "    return user_prompt"
   ]
  },
  {
   "cell_type": "code",
   "execution_count": 31,
   "id": "5e26885d-8aa3-408c-b1a0-e8a80d0a7e01",
   "metadata": {},
   "outputs": [],
   "source": [
    "# See how this function creates exactly the format above\n",
    "\n",
    "def messages_for(website):\n",
    "    return [\n",
    "        {\"role\": \"system\", \"content\": system_prompt},\n",
    "        {\"role\": \"user\", \"content\": user_prompt_for(website)}\n",
    "    ]"
   ]
  },
  {
   "cell_type": "code",
   "execution_count": 32,
   "id": "357320d5-db20-4c5a-9cd1-084e9fe76c5a",
   "metadata": {},
   "outputs": [],
   "source": [
    "\n",
    "def summarize(url):\n",
    "    website = Website(url)\n",
    "    ollama_via_openai = OpenAI(base_url=OLLAMA_URL, api_key=OLLAMA_API_KEY)\n",
    "    response = ollama_via_openai.chat.completions.create(\n",
    "        model = MODEL,\n",
    "        messages = messages_for(website)\n",
    "    )\n",
    "    return response.choices[0].message.content"
   ]
  },
  {
   "cell_type": "code",
   "execution_count": 33,
   "id": "a810b041-ef31-46ef-9738-2428136cbf85",
   "metadata": {},
   "outputs": [],
   "source": [
    "def display_summary(url):\n",
    "    summary = summarize(url)\n",
    "    display(Markdown(summary))"
   ]
  },
  {
   "cell_type": "code",
   "execution_count": 34,
   "id": "9e2afb4a-f606-401f-9a66-9f97c4efdba5",
   "metadata": {},
   "outputs": [
    {
     "data": {
      "text/markdown": [
       "# Pelisplus Website Summary\n",
       "\n",
       "## Overview\n",
       "\n",
       "The Pelisplus website is a popular platform that allows users to watch movies and TV series online for free. The website has an extensive catalog of content, including genres such as action, animation, comedy, drama, fantasy, and more.\n",
       "\n",
       "### Movies and TV Series\n",
       "\n",
       "The website features a vast collection of movies and TV series in high definition (HD). Users can browse through various filters, including alphabetical order, release year, and genre. The website also allows users to search for specific titles or actors.\n",
       "\n",
       "### News and Announcements\n",
       "\n",
       "There are no notable news or announcements on the website homepage. However:\n",
       "\n",
       "* **Upcoming Releases**: While there is a list of upcoming releases, it appears dated and incomplete.\n",
       "* **New Content**: There is an ongoing section displaying new content added to the platform recently, but this does not include live updates.\n",
       "\n",
       "### Website Design and Features\n",
       "\n",
       "The website's design is straightforward, with easy-to-use navigation. However:\n",
       "\n",
       "* **Quality Issues**: Some users have reported issues with video quality and buffering.\n",
       "* **Security Measures**: No evident or notable security features.\n",
       "\n",
       "### Monetization\n",
       "\n",
       "At the time of our update, there was no information available on how Pelisplus generates revenue, such as advertising or paid subscriptions.\n",
       "\n",
       "# Conclusion\n",
       "\n",
       "The Pelisplus website provides a vast library of content but appears to lack updates and live streaming news. While many users have reported positive experiences with their overall viewing quality and selection options, it is essential for the platform to work effectively in both offering content without significant disruptions and to secure ongoing user engagement through constant updates and improvements.\n",
       "\n",
       "Stay tuned for any changes in these characteristics as more time goes by!\n",
       "\n",
       "Disclaimer: Last assessed information regarding security features was insufficient, but a review may exist elsewhere which might assist.\n",
       "\n",
       "As always: Always prioritize your safety while using online platforms where required."
      ],
      "text/plain": [
       "<IPython.core.display.Markdown object>"
      ]
     },
     "metadata": {},
     "output_type": "display_data"
    }
   ],
   "source": [
    "display_summary(\"https://www19.pelisplushd.to/\")"
   ]
  },
  {
   "cell_type": "code",
   "execution_count": null,
   "id": "f6f93b2d-e47d-4c76-9fc3-b2fd0da650f3",
   "metadata": {},
   "outputs": [],
   "source": []
  }
 ],
 "metadata": {
  "kernelspec": {
   "display_name": "Python 3 (ipykernel)",
   "language": "python",
   "name": "python3"
  },
  "language_info": {
   "codemirror_mode": {
    "name": "ipython",
    "version": 3
   },
   "file_extension": ".py",
   "mimetype": "text/x-python",
   "name": "python",
   "nbconvert_exporter": "python",
   "pygments_lexer": "ipython3",
   "version": "3.9.6"
  }
 },
 "nbformat": 4,
 "nbformat_minor": 5
}
